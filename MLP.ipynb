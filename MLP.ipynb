{
 "cells": [
  {
   "cell_type": "code",
   "execution_count": 3,
   "metadata": {},
   "outputs": [
    {
     "name": "stderr",
     "output_type": "stream",
     "text": [
      "UsageError: Line magic function `%matplotlib.inline` not found.\n"
     ]
    }
   ],
   "source": [
    "import matplotlib.pyplot as plt\n",
    "import numpy as np\n",
    "from graphviz import Digraph\n",
    "import torch\n",
    "import math\n",
    "%matplotlib.inline"
   ]
  },
  {
   "cell_type": "code",
   "execution_count": 4,
   "metadata": {},
   "outputs": [],
   "source": [
    "def f(x):\n",
    "  return 5*x**2\n",
    "\n",
    "def dydx(x):\n",
    "  return 10*x"
   ]
  },
  {
   "cell_type": "code",
   "execution_count": 5,
   "metadata": {},
   "outputs": [
    {
     "data": {
      "text/plain": [
       "[<matplotlib.lines.Line2D at 0x135648c10>]"
      ]
     },
     "execution_count": 5,
     "metadata": {},
     "output_type": "execute_result"
    },
    {
     "data": {
      "image/png": "[encoded data removed]",
      "text/plain": [
       "<Figure size 640x480 with 1 Axes>"
      ]
     },
     "metadata": {},
     "output_type": "display_data"
    }
   ],
   "source": [
    "\n",
    "xs = np.arange(-5, 5, 0.25)\n",
    "ys = f(xs)\n",
    "zs = dydx(xs)\n",
    "plt.plot(xs, ys)\n",
    "plt.plot(zs, ys)"
   ]
  },
  {
   "attachments": {},
   "cell_type": "markdown",
   "metadata": {},
   "source": [
    "# Derivative Basic"
   ]
  },
  {
   "cell_type": "code",
   "execution_count": 6,
   "metadata": {},
   "outputs": [
    {
     "data": {
      "text/plain": [
       "-29.949999999999477"
      ]
     },
     "execution_count": 6,
     "metadata": {},
     "output_type": "execute_result"
    }
   ],
   "source": [
    "h = 0.01\n",
    "x = -3\n",
    "(f(x + h) - f(x))/h"
   ]
  },
  {
   "cell_type": "code",
   "execution_count": 10,
   "metadata": {},
   "outputs": [],
   "source": [
    "class Value:\n",
    "  def __init__(self, val, _children = (), _op=\"\", label = \"\"):\n",
    "    self.data = val \n",
    "    self._prev = set(_children)\n",
    "    self._op = _op\n",
    "    self.label = label\n",
    "    self.grad = 0.0\n",
    "    self._backward = lambda: None\n",
    "  \n",
    "  def __repr__(self):\n",
    "    return f\"Value(data = {self.data})\"\n",
    "\n",
    "  def __radd__(self, other):\n",
    "    return self + other\n",
    "\n",
    "  def __rmul__(self, other):\n",
    "    return self * other\n",
    "\n",
    "  def __add__(self, other):\n",
    "    other = other if isinstance(other, Value) else Value(other)\n",
    "    out = Value(self.data + other.data, (self, other), \"+\")\n",
    "    def backward():\n",
    "      self.grad += out.grad * 1.0\n",
    "      other.grad += out.grad * 1.0\n",
    "\n",
    "    out._backward = backward\n",
    "    return out\n",
    "  \n",
    "  def exp(self):\n",
    "    x = self.data\n",
    "    out = Value(math.exp(x), (self, ), \"exp\")\n",
    "    def backward():\n",
    "      self.grad += out.data * out.grad\n",
    "    out._backward = backward\n",
    "  \n",
    "  def __mul__(self, other):\n",
    "    other = other if isinstance(other, Value) else Value(other)\n",
    "    out = Value(self.data * other.data, (self, other), \"*\")\n",
    "    def backward():\n",
    "      self.grad += other.data * out.grad\n",
    "      other.grad += self.data * out.grad\n",
    "    out._backward = backward\n",
    "    return out\n",
    "  \n",
    "  def tanh(self):\n",
    "    x = self.data\n",
    "    t = (math.exp(2*x) - 1) / (math.exp(2*x) + 1)\n",
    "    out = Value(t, (self, ), 'tanh')\n",
    "    \n",
    "    def _backward():\n",
    "      self.grad += (1 - t**2) * out.grad\n",
    "    out._backward = _backward\n",
    "    \n",
    "    return out\n",
    "  \n",
    "  def __truediv__(self, other):\n",
    "    return self * other ** -1\n",
    "  \n",
    "  def __sub__(self, other):\n",
    "    return self + (-1 * other)\n",
    "  \n",
    "  def __pow__(self, other):\n",
    "    assert isinstance(other, (int, float)), \"only supporting int/float powers for now\"\n",
    "    out = Value(self.data ** other, (self,), f\"**{other}\")\n",
    "    def backward():\n",
    "      self.grad += other * (self.data)**(other - 1) * out.grad\n",
    "    out._backward = backward\n",
    "    return out\n",
    "\n",
    "\n",
    "  def backward(self):\n",
    "    topo = []\n",
    "    visited = set()\n",
    "    def build_topo(node):\n",
    "      if node not in visited:\n",
    "        visited.add(node)\n",
    "        for child in node._prev:\n",
    "          build_topo(child)\n",
    "        topo.append(node)\n",
    "      \n",
    "    build_topo(self) \n",
    "    self.grad = 1.0\n",
    "    for node in reversed(topo):\n",
    "      node._backward()"
   ]
  },
  {
   "cell_type": "code",
   "execution_count": 9,
   "metadata": {},
   "outputs": [],
   "source": [
    "def trace(root):\n",
    "  nodes, edges = set(), set()\n",
    "  def build(v):\n",
    "    if v not in nodes:\n",
    "      nodes.add(v)\n",
    "      for child in v._prev:\n",
    "        edges.add((child, v))\n",
    "        build(child)\n",
    "  build(root)\n",
    "  return nodes, edges\n",
    "\n",
    "def draw_dot(root):\n",
    "  dot = Digraph(format=\"svg\", graph_attr={'rankdir': 'LR'})\n",
    "  nodes, edges = trace(root)\n",
    "  for n in nodes:\n",
    "    uid = str(id(n))\n",
    "    dot.node(name = uid, label = '{ %s | data %.4f | grad %s }' % (n.label, n.data, n.grad), shape=\"record\")\n",
    "    if n._op:\n",
    "      dot.node(name = uid + n._op, label = n._op)\n",
    "      dot.edge(uid + n._op, uid)\n",
    "\n",
    "  for n1, n2 in edges:\n",
    "    dot.edge(str(id(n1)), str(id(n2)) + n2._op)\n",
    "  \n",
    "  return dot"
   ]
  },
  {
   "cell_type": "code",
   "execution_count": 6,
   "metadata": {},
   "outputs": [],
   "source": [
    "\n",
    "a = Value(10, label=\"a\")\n",
    "b = Value(-2, label=\"b\")\n",
    "c = Value(3, label=\"c\")\n",
    "d = Value(-5, label=\"d\")\n"
   ]
  },
  {
   "attachments": {},
   "cell_type": "markdown",
   "metadata": {},
   "source": [
    "z = ((a * b) + c) * d"
   ]
  },
  {
   "cell_type": "code",
   "execution_count": 386,
   "metadata": {},
   "outputs": [],
   "source": [
    "def F(a, b, c, d):\n",
    "  x = a * b; x.label = \"x\"\n",
    "  y = x + c; y.label = \"y\"\n",
    "  z = y * d; z.label = \"z\"\n",
    "  return z\n",
    "\n"
   ]
  },
  {
   "cell_type": "code",
   "execution_count": 390,
   "metadata": {},
   "outputs": [
    {
     "data": {
      "text/plain": [
       "Value(data = 87.0)"
      ]
     },
     "execution_count": 390,
     "metadata": {},
     "output_type": "execute_result"
    }
   ],
   "source": [
    "\n",
    "h = 0.2 \n",
    "d1 = F(a + Value(h), b, c, d )\n",
    "d1"
   ]
  },
  {
   "cell_type": "code",
   "execution_count": 391,
   "metadata": {},
   "outputs": [
    {
     "data": {
      "text/plain": [
       "Value(data = 85)"
      ]
     },
     "execution_count": 391,
     "metadata": {},
     "output_type": "execute_result"
    }
   ],
   "source": [
    "\n",
    "d2 = F(a, b, c, d)\n",
    "d2"
   ]
  },
  {
   "cell_type": "code",
   "execution_count": 198,
   "metadata": {},
   "outputs": [
    {
     "data": {
      "text/plain": [
       "10.0"
      ]
     },
     "execution_count": 198,
     "metadata": {},
     "output_type": "execute_result"
    }
   ],
   "source": [
    "(d1.data - d2.data)/h\n"
   ]
  },
  {
   "cell_type": "code",
   "execution_count": 394,
   "metadata": {},
   "outputs": [
    {
     "data": {
      "image/svg+xml": "<?xml version=\"1.0\" encoding=\"UTF-8\" standalone=\"no\"?>\n<!DOCTYPE svg PUBLIC \"-//W3C//DTD SVG 1.1//EN\"\n \"http://www.w3.org/Graphics/SVG/1.1/DTD/svg11.dtd\">\n<!-- Generated by graphviz version 7.1.0 (20230121.1956)\n -->\n<!-- Pages: 1 -->\n<svg width=\"1122pt\" height=\"128pt\"\n viewBox=\"0.00 0.00 1122.00 128.00\" xmlns=\"http://www.w3.org/2000/svg\" xmlns:xlink=\"http://www.w3.org/1999/xlink\">\n<g id=\"graph0\" class=\"graph\" transform=\"scale(1 1) rotate(0) translate(4 124)\">\n<polygon fill=\"white\" stroke=\"none\" points=\"-4,4 -4,-124 1118,-124 1118,4 -4,4\"/>\n<!-- 6051367424 -->\n<g id=\"node1\" class=\"node\">\n<title>6051367424</title>\n<polygon fill=\"none\" stroke=\"black\" points=\"320,-83.5 320,-119.5 496,-119.5 496,-83.5 320,-83.5\"/>\n<text text-anchor=\"middle\" x=\"331.5\" y=\"-97.8\" font-family=\"Times,serif\" font-size=\"14.00\">c</text>\n<polyline fill=\"none\" stroke=\"black\" points=\"343,-83.5 343,-119.5\"/>\n<text text-anchor=\"middle\" x=\"383\" y=\"-97.8\" font-family=\"Times,serif\" font-size=\"14.00\">data 3.0000</text>\n<polyline fill=\"none\" stroke=\"black\" points=\"423,-83.5 423,-119.5\"/>\n<text text-anchor=\"middle\" x=\"459.5\" y=\"-97.8\" font-family=\"Times,serif\" font-size=\"14.00\">grad &#45;15.0</text>\n</g>\n<!-- 6058605584+ -->\n<g id=\"node3\" class=\"node\">\n<title>6058605584+</title>\n<ellipse fill=\"none\" stroke=\"black\" cx=\"565\" cy=\"-73.5\" rx=\"27\" ry=\"18\"/>\n<text text-anchor=\"middle\" x=\"565\" y=\"-69.8\" font-family=\"Times,serif\" font-size=\"14.00\">+</text>\n</g>\n<!-- 6051367424&#45;&gt;6058605584+ -->\n<g id=\"edge8\" class=\"edge\">\n<title>6051367424&#45;&gt;6058605584+</title>\n<path fill=\"none\" stroke=\"black\" d=\"M495.56,-85.86C506.71,-83.85 517.59,-81.88 527.29,-80.13\"/>\n<polygon fill=\"black\" stroke=\"black\" points=\"527.76,-83.6 536.98,-78.38 526.51,-76.72 527.76,-83.6\"/>\n</g>\n<!-- 6058605584 -->\n<g id=\"node2\" class=\"node\">\n<title>6058605584</title>\n<polygon fill=\"none\" stroke=\"black\" points=\"628,-55.5 628,-91.5 816,-91.5 816,-55.5 628,-55.5\"/>\n<text text-anchor=\"middle\" x=\"639.5\" y=\"-69.8\" font-family=\"Times,serif\" font-size=\"14.00\">y</text>\n<polyline fill=\"none\" stroke=\"black\" points=\"651,-55.5 651,-91.5\"/>\n<text text-anchor=\"middle\" x=\"697\" y=\"-69.8\" font-family=\"Times,serif\" font-size=\"14.00\">data &#45;17.0000</text>\n<polyline fill=\"none\" stroke=\"black\" points=\"743,-55.5 743,-91.5\"/>\n<text text-anchor=\"middle\" x=\"779.5\" y=\"-69.8\" font-family=\"Times,serif\" font-size=\"14.00\">grad &#45;10.0</text>\n</g>\n<!-- 6058603904* -->\n<g id=\"node9\" class=\"node\">\n<title>6058603904*</title>\n<ellipse fill=\"none\" stroke=\"black\" cx=\"879\" cy=\"-45.5\" rx=\"27\" ry=\"18\"/>\n<text text-anchor=\"middle\" x=\"879\" y=\"-41.8\" font-family=\"Times,serif\" font-size=\"14.00\">*</text>\n</g>\n<!-- 6058605584&#45;&gt;6058603904* -->\n<g id=\"edge7\" class=\"edge\">\n<title>6058605584&#45;&gt;6058603904*</title>\n<path fill=\"none\" stroke=\"black\" d=\"M815.85,-56.73C824.75,-55.12 833.38,-53.56 841.22,-52.14\"/>\n<polygon fill=\"black\" stroke=\"black\" points=\"841.76,-55.6 850.98,-50.38 840.52,-48.71 841.76,-55.6\"/>\n</g>\n<!-- 6058605584+&#45;&gt;6058605584 -->\n<g id=\"edge1\" class=\"edge\">\n<title>6058605584+&#45;&gt;6058605584</title>\n<path fill=\"none\" stroke=\"black\" d=\"M592.29,-73.5C599.52,-73.5 607.82,-73.5 616.66,-73.5\"/>\n<polygon fill=\"black\" stroke=\"black\" points=\"616.57,-77 626.57,-73.5 616.57,-70 616.57,-77\"/>\n</g>\n<!-- 6058604096 -->\n<g id=\"node4\" class=\"node\">\n<title>6058604096</title>\n<polygon fill=\"none\" stroke=\"black\" points=\"314,-28.5 314,-64.5 502,-64.5 502,-28.5 314,-28.5\"/>\n<text text-anchor=\"middle\" x=\"325.5\" y=\"-42.8\" font-family=\"Times,serif\" font-size=\"14.00\">x</text>\n<polyline fill=\"none\" stroke=\"black\" points=\"337,-28.5 337,-64.5\"/>\n<text text-anchor=\"middle\" x=\"383\" y=\"-42.8\" font-family=\"Times,serif\" font-size=\"14.00\">data &#45;20.0000</text>\n<polyline fill=\"none\" stroke=\"black\" points=\"429,-28.5 429,-64.5\"/>\n<text text-anchor=\"middle\" x=\"465.5\" y=\"-42.8\" font-family=\"Times,serif\" font-size=\"14.00\">grad &#45;15.0</text>\n</g>\n<!-- 6058604096&#45;&gt;6058605584+ -->\n<g id=\"edge4\" class=\"edge\">\n<title>6058604096&#45;&gt;6058605584+</title>\n<path fill=\"none\" stroke=\"black\" d=\"M501.85,-62.67C510.75,-64.22 519.38,-65.73 527.22,-67.09\"/>\n<polygon fill=\"black\" stroke=\"black\" points=\"526.53,-70.53 536.98,-68.79 527.73,-63.63 526.53,-70.53\"/>\n</g>\n<!-- 6058604096* -->\n<g id=\"node5\" class=\"node\">\n<title>6058604096*</title>\n<ellipse fill=\"none\" stroke=\"black\" cx=\"251\" cy=\"-46.5\" rx=\"27\" ry=\"18\"/>\n<text text-anchor=\"middle\" x=\"251\" y=\"-42.8\" font-family=\"Times,serif\" font-size=\"14.00\">*</text>\n</g>\n<!-- 6058604096*&#45;&gt;6058604096 -->\n<g id=\"edge2\" class=\"edge\">\n<title>6058604096*&#45;&gt;6058604096</title>\n<path fill=\"none\" stroke=\"black\" d=\"M278.29,-46.5C285.52,-46.5 293.82,-46.5 302.66,-46.5\"/>\n<polygon fill=\"black\" stroke=\"black\" points=\"302.57,-50 312.57,-46.5 302.57,-43 302.57,-50\"/>\n</g>\n<!-- 6051366992 -->\n<g id=\"node6\" class=\"node\">\n<title>6051366992</title>\n<polygon fill=\"none\" stroke=\"black\" points=\"5,-56.5 5,-92.5 183,-92.5 183,-56.5 5,-56.5\"/>\n<text text-anchor=\"middle\" x=\"16.5\" y=\"-70.8\" font-family=\"Times,serif\" font-size=\"14.00\">a</text>\n<polyline fill=\"none\" stroke=\"black\" points=\"28,-56.5 28,-92.5\"/>\n<text text-anchor=\"middle\" x=\"71.5\" y=\"-70.8\" font-family=\"Times,serif\" font-size=\"14.00\">data 10.0000</text>\n<polyline fill=\"none\" stroke=\"black\" points=\"115,-56.5 115,-92.5\"/>\n<text text-anchor=\"middle\" x=\"149\" y=\"-70.8\" font-family=\"Times,serif\" font-size=\"14.00\">grad 40.0</text>\n</g>\n<!-- 6051366992&#45;&gt;6058604096* -->\n<g id=\"edge6\" class=\"edge\">\n<title>6051366992&#45;&gt;6058604096*</title>\n<path fill=\"none\" stroke=\"black\" d=\"M182.92,-58.62C193.58,-56.69 203.98,-54.81 213.28,-53.13\"/>\n<polygon fill=\"black\" stroke=\"black\" points=\"213.71,-56.61 222.92,-51.39 212.46,-49.72 213.71,-56.61\"/>\n</g>\n<!-- 6051367664 -->\n<g id=\"node7\" class=\"node\">\n<title>6051367664</title>\n<polygon fill=\"none\" stroke=\"black\" points=\"0,-1.5 0,-37.5 188,-37.5 188,-1.5 0,-1.5\"/>\n<text text-anchor=\"middle\" x=\"11.5\" y=\"-15.8\" font-family=\"Times,serif\" font-size=\"14.00\">b</text>\n<polyline fill=\"none\" stroke=\"black\" points=\"23,-1.5 23,-37.5\"/>\n<text text-anchor=\"middle\" x=\"65.5\" y=\"-15.8\" font-family=\"Times,serif\" font-size=\"14.00\">data &#45;2.0000</text>\n<polyline fill=\"none\" stroke=\"black\" points=\"108,-1.5 108,-37.5\"/>\n<text text-anchor=\"middle\" x=\"148\" y=\"-15.8\" font-family=\"Times,serif\" font-size=\"14.00\">grad &#45;200.0</text>\n</g>\n<!-- 6051367664&#45;&gt;6058604096* -->\n<g id=\"edge9\" class=\"edge\">\n<title>6051367664&#45;&gt;6058604096*</title>\n<path fill=\"none\" stroke=\"black\" d=\"M187.85,-35.67C196.75,-37.22 205.38,-38.73 213.22,-40.09\"/>\n<polygon fill=\"black\" stroke=\"black\" points=\"212.53,-43.53 222.98,-41.79 213.73,-36.63 212.53,-43.53\"/>\n</g>\n<!-- 6058603904 -->\n<g id=\"node8\" class=\"node\">\n<title>6058603904</title>\n<polygon fill=\"none\" stroke=\"black\" points=\"942,-27.5 942,-63.5 1114,-63.5 1114,-27.5 942,-27.5\"/>\n<text text-anchor=\"middle\" x=\"953.5\" y=\"-41.8\" font-family=\"Times,serif\" font-size=\"14.00\">z</text>\n<polyline fill=\"none\" stroke=\"black\" points=\"965,-27.5 965,-63.5\"/>\n<text text-anchor=\"middle\" x=\"1008.5\" y=\"-41.8\" font-family=\"Times,serif\" font-size=\"14.00\">data 85.0000</text>\n<polyline fill=\"none\" stroke=\"black\" points=\"1052,-27.5 1052,-63.5\"/>\n<text text-anchor=\"middle\" x=\"1083\" y=\"-41.8\" font-family=\"Times,serif\" font-size=\"14.00\">grad 1.0</text>\n</g>\n<!-- 6058603904*&#45;&gt;6058603904 -->\n<g id=\"edge3\" class=\"edge\">\n<title>6058603904*&#45;&gt;6058603904</title>\n<path fill=\"none\" stroke=\"black\" d=\"M906.28,-45.5C913.54,-45.5 921.86,-45.5 930.67,-45.5\"/>\n<polygon fill=\"black\" stroke=\"black\" points=\"930.53,-49 940.53,-45.5 930.53,-42 930.53,-49\"/>\n</g>\n<!-- 6051367808 -->\n<g id=\"node10\" class=\"node\">\n<title>6051367808</title>\n<polygon fill=\"none\" stroke=\"black\" points=\"631.5,-0.5 631.5,-36.5 812.5,-36.5 812.5,-0.5 631.5,-0.5\"/>\n<text text-anchor=\"middle\" x=\"643\" y=\"-14.8\" font-family=\"Times,serif\" font-size=\"14.00\">d</text>\n<polyline fill=\"none\" stroke=\"black\" points=\"654.5,-0.5 654.5,-36.5\"/>\n<text text-anchor=\"middle\" x=\"697\" y=\"-14.8\" font-family=\"Times,serif\" font-size=\"14.00\">data &#45;5.0000</text>\n<polyline fill=\"none\" stroke=\"black\" points=\"739.5,-0.5 739.5,-36.5\"/>\n<text text-anchor=\"middle\" x=\"776\" y=\"-14.8\" font-family=\"Times,serif\" font-size=\"14.00\">grad &#45;34.0</text>\n</g>\n<!-- 6051367808&#45;&gt;6058603904* -->\n<g id=\"edge5\" class=\"edge\">\n<title>6051367808&#45;&gt;6058603904*</title>\n<path fill=\"none\" stroke=\"black\" d=\"M812.27,-34.05C822.47,-35.83 832.39,-37.55 841.3,-39.11\"/>\n<polygon fill=\"black\" stroke=\"black\" points=\"840.44,-42.51 850.89,-40.78 841.64,-35.61 840.44,-42.51\"/>\n</g>\n</g>\n</svg>\n",
      "text/plain": [
       "<graphviz.graphs.Digraph at 0x168d50460>"
      ]
     },
     "execution_count": 394,
     "metadata": {},
     "output_type": "execute_result"
    }
   ],
   "source": [
    "d2.backward()\n",
    "draw_dot(d2)\n"
   ]
  },
  {
   "cell_type": "code",
   "execution_count": 200,
   "metadata": {},
   "outputs": [
    {
     "data": {
      "text/plain": [
       "tensor([85.], dtype=torch.float64, grad_fn=<MulBackward0>)"
      ]
     },
     "execution_count": 200,
     "metadata": {},
     "output_type": "execute_result"
    }
   ],
   "source": [
    "# a = Value(10, label=\"a\")\n",
    "# b = Value(-2, label=\"b\")\n",
    "# c = Value(3, label=\"c\")\n",
    "# d = Value(-5, label=\"d\")\n",
    "x1 = torch.Tensor([10.0]).double(); x1.requires_grad = True\n",
    "x2 = torch.Tensor([-2.0]).double(); x2.requires_grad = True\n",
    "w1 = torch.Tensor([3.0]).double(); w1.requires_grad = True\n",
    "w2 = torch.Tensor([-5.0]).double(); w2.requires_grad = True\n",
    "b = torch.Tensor([6.293]).double(); b.requires_grad = True\n",
    "\n",
    "q = F(x1, x2, w1, w2)\n",
    "q"
   ]
  },
  {
   "cell_type": "code",
   "execution_count": 209,
   "metadata": {},
   "outputs": [
    {
     "data": {
      "text/plain": [
       "tensor([-50.], dtype=torch.float64)"
      ]
     },
     "execution_count": 209,
     "metadata": {},
     "output_type": "execute_result"
    }
   ],
   "source": [
    "x2.grad"
   ]
  },
  {
   "cell_type": "code",
   "execution_count": 11,
   "metadata": {},
   "outputs": [],
   "source": [
    "import math\n",
    "import random\n",
    "class Neuron:\n",
    "    # Number of inputs this neuron has\n",
    "    def __init__(self, nin):\n",
    "        self.w = [Value(random.uniform(-1, 1)) for _ in range(nin)]\n",
    "        self.b = Value(random.uniform(-1, 1))\n",
    "\n",
    "    # x has to be an array lol\n",
    "    def __call__(self, x):\n",
    "        # wx + b\n",
    "        act = sum([wi * xi for (wi, xi) in zip(self.w, x)], self.b)\n",
    "        out = act.tanh()\n",
    "        return out \n",
    "    \n",
    "    def parameters(self):\n",
    "        return self.w + [self.b]\n",
    "\n",
    "# A layer is nothing but a collection of neurons, with a fixed number of inputs and outputs\n",
    "class Layer:\n",
    "    # nin = Number of imputs PER neuron\n",
    "    # nout = Total number of neurons in the layer\n",
    "    # I wish karpathy helped make this more clear\n",
    "    def __init__(self, nin, nout):\n",
    "        self.neurons = [Neuron(nin) for _ in range(nout)]\n",
    "    \n",
    "    # x again, has to be an array\n",
    "    def __call__(self, x):\n",
    "        outs = [n(x) for n in self.neurons]\n",
    "        return outs[0] if len(outs) == 1 else outs\n",
    "    \n",
    "    def parameters(self): \n",
    "        return [p for neuron in self.neurons for p in neuron.parameters()]\n",
    "    \n",
    "class MLP:\n",
    "\n",
    "    # nin = First layer number of inputs\n",
    "    # arr_layer_out = output count of each layer\n",
    "    def __init__(self, nin, arr_layer_out):\n",
    "        arr = [nin] + arr_layer_out\n",
    "        self.layers = [Layer(arr[i], arr[i + 1]) for i in range(len(arr) - 1)]\n",
    "    \n",
    "    def __call__(self, x):\n",
    "        for layer in self.layers:\n",
    "            x = layer(x)\n",
    "        return x\n",
    "\n",
    "    def parameters(self): \n",
    "        return [p for layer in self.layers for p in layer.parameters()]\n",
    "\n"
   ]
  },
  {
   "cell_type": "code",
   "execution_count": 108,
   "metadata": {},
   "outputs": [],
   "source": [
    "m = MLP(3, [4, 5, 1])\n",
    "y = m([1, 2, 3])"
   ]
  },
  {
   "cell_type": "code",
   "execution_count": 109,
   "metadata": {},
   "outputs": [],
   "source": [
    "xs = [\n",
    "    [1.0, 2.0, 3.0, 4.0],\n",
    "    [1.0, 1.0, 1.0, 1.0],\n",
    "    [2.0, 3.0, 2.0, 2.0],\n",
    "    [1.0, 1.0, 1.0, 2.0],\n",
    "]\n",
    "ys = [\n",
    "    1.0,\n",
    "    -1.0, \n",
    "    1.0,\n",
    "    -1.0\n",
    "]\n",
    "m = MLP(4, [4, 3, 4, 1])\n",
    "\n"
   ]
  },
  {
   "cell_type": "code",
   "execution_count": 110,
   "metadata": {},
   "outputs": [
    {
     "data": {
      "text/plain": [
       "Value(data = 3.456294146981941)"
      ]
     },
     "execution_count": 110,
     "metadata": {},
     "output_type": "execute_result"
    }
   ],
   "source": [
    "ypreds = [m(x) for x in xs]\n",
    "loss = sum([(y_out - y_gt) ** 2 for (y_gt, y_out) in zip(ys, ypreds)])\n",
    "loss"
   ]
  },
  {
   "cell_type": "code",
   "execution_count": 119,
   "metadata": {},
   "outputs": [
    {
     "name": "stdout",
     "output_type": "stream",
     "text": [
      "0 Value(data = 7.999710977895198)\n",
      "1 Value(data = 7.999710152113362)\n",
      "2 Value(data = 7.999709321607333)\n",
      "3 Value(data = 7.999708486336486)\n",
      "4 Value(data = 7.999707646259734)\n",
      "5 Value(data = 7.999706801335512)\n",
      "6 Value(data = 7.999705951521779)\n",
      "7 Value(data = 7.9997050967760055)\n",
      "8 Value(data = 7.999704237055164)\n",
      "9 Value(data = 7.999703372315734)\n",
      "10 Value(data = 7.999702502513676)\n",
      "11 Value(data = 7.999701627604439)\n",
      "12 Value(data = 7.999700747542947)\n",
      "13 Value(data = 7.999699862283595)\n",
      "14 Value(data = 7.999698971780233)\n",
      "15 Value(data = 7.999698075986169)\n",
      "16 Value(data = 7.999697174854155)\n",
      "17 Value(data = 7.999696268336372)\n",
      "18 Value(data = 7.999695356384437)\n",
      "19 Value(data = 7.999694438949381)\n"
     ]
    }
   ],
   "source": [
    "for i in range(20):\n",
    "  ypreds = [m(x) for x in xs]\n",
    "  loss = sum([(y_out - y_gt) ** 2 for (y_gt, y_out) in zip(ys, ypreds)])\n",
    "\n",
    "  for p in m.parameters():\n",
    "      p.grad = 0\n",
    "\n",
    "  loss.backward()\n",
    "    \n",
    "  for p in m.parameters():\n",
    "      p.data += (-0.02 * p.grad)\n",
    "  \n",
    "  print(i, loss)\n",
    "    "
   ]
  },
  {
   "cell_type": "code",
   "execution_count": 40,
   "metadata": {},
   "outputs": [
    {
     "data": {
      "text/plain": [
       "[Value(data = 3.5572773173532506e-05),\n",
       " Value(data = 9.107560131253662e-05),\n",
       " Value(data = 3.786767957070527e-05),\n",
       " Value(data = 5.481541230997539e-05)]"
      ]
     },
     "execution_count": 40,
     "metadata": {},
     "output_type": "execute_result"
    }
   ],
   "source": [
    "ypreds\n"
   ]
  }
 ],
 "metadata": {
  "kernelspec": {
   "display_name": "Python 3",
   "language": "python",
   "name": "python3"
  },
  "language_info": {
   "codemirror_mode": {
    "name": "ipython",
    "version": 3
   },
   "file_extension": ".py",
   "mimetype": "text/x-python",
   "name": "python",
   "nbconvert_exporter": "python",
   "pygments_lexer": "ipython3",
   "version": "3.8.16"
  },
  "orig_nbformat": 4
 },
 "nbformat": 4,
 "nbformat_minor": 2
}
