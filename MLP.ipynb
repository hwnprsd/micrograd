{
 "cells": [
  {
   "cell_type": "code",
   "execution_count": 44,
   "metadata": {},
   "outputs": [
    {
     "name": "stderr",
     "output_type": "stream",
     "text": [
      "UsageError: Line magic function `%matplotlib.inline` not found.\n"
     ]
    }
   ],
   "source": [
    "import matplotlib.pyplot as plt\n",
    "import numpy as np\n",
    "from graphviz import Digraph\n",
    "%matplotlib.inline"
   ]
  },
  {
   "cell_type": "code",
   "execution_count": 106,
   "metadata": {},
   "outputs": [],
   "source": [
    "def f(x):\n",
    "  return 5*x**2\n",
    "\n",
    "def dydx(x):\n",
    "  return 10*x"
   ]
  },
  {
   "cell_type": "code",
   "execution_count": 107,
   "metadata": {},
   "outputs": [
    {
     "data": {
      "text/plain": [
       "[<matplotlib.lines.Line2D at 0x1181e7750>]"
      ]
     },
     "execution_count": 107,
     "metadata": {},
     "output_type": "execute_result"
    },
    {
     "data": {
      "image/png": "[encoded data removed]",
      "text/plain": [
       "<Figure size 640x480 with 1 Axes>"
      ]
     },
     "metadata": {},
     "output_type": "display_data"
    }
   ],
   "source": [
    "\n",
    "xs = np.arange(-5, 5, 0.25)\n",
    "ys = f(xs)\n",
    "zs = dydx(xs)\n",
    "plt.plot(xs, ys)\n",
    "plt.plot(zs, ys)"
   ]
  },
  {
   "attachments": {},
   "cell_type": "markdown",
   "metadata": {},
   "source": [
    "# Derivative Basic"
   ]
  },
  {
   "cell_type": "code",
   "execution_count": 24,
   "metadata": {},
   "outputs": [
    {
     "data": {
      "text/plain": [
       "-15.969999999999729"
      ]
     },
     "execution_count": 24,
     "metadata": {},
     "output_type": "execute_result"
    }
   ],
   "source": [
    "h = 0.01\n",
    "x = -3\n",
    "(f(x + h) - f(x))/h"
   ]
  },
  {
   "cell_type": "code",
   "execution_count": 255,
   "metadata": {},
   "outputs": [],
   "source": [
    "class Value:\n",
    "  def __init__(self, val, _children = (), _op=\"\", label = \"\"):\n",
    "    self.data = val \n",
    "    self._prev = set(_children)\n",
    "    self._op = _op\n",
    "    self.label = label\n",
    "    self.grad = 0.0\n",
    "    self._backward = lambda: None\n",
    "  \n",
    "  def __repr__(self):\n",
    "    return f\"Value(data = {self.data})\"\n",
    "\n",
    "  def __radd__(self, other):\n",
    "    return self + other\n",
    "\n",
    "  def __rmul__(self, other):\n",
    "    return self * other\n",
    "\n",
    "  def __add__(self, other):\n",
    "    other = other if isinstance(other, Value) else Value(other)\n",
    "    out = Value(self.data + other.data, (self, other), \"+\")\n",
    "    def backward():\n",
    "      self.grad += out.grad * 1.0\n",
    "      other.grad += out.grad * 1.0\n",
    "\n",
    "    out._backward = backward\n",
    "    return out\n",
    "  \n",
    "  def exp(self):\n",
    "    x = self.data\n",
    "    out = Value(math.exp(x), (self, ), \"exp\")\n",
    "    def backward():\n",
    "      self.grad += out.data * out.grad\n",
    "    out._backward = backward\n",
    "  \n",
    "  def __mul__(self, other):\n",
    "    other = other if isinstance(other, Value) else Value(other)\n",
    "    out = Value(self.data * other.data, (self, other), \"*\")\n",
    "    def backward():\n",
    "      self.grad += other.data * out.grad\n",
    "      other.grad += self.data * out.grad\n",
    "    out._backward = backward\n",
    "    return out\n",
    "  \n",
    "  def tanh(self):\n",
    "    other = other if isinstance(other, Value) else Value(other)\n",
    "    x = self.data\n",
    "    t = (math.exp(2*x) - 1) / (math.exp(2*x) + 1)\n",
    "    out = Value(t, (self, ), \"tanh\")\n",
    "    def backward():\n",
    "      out.grad += (1 - t**2) * out.grad\n",
    "    out._backward = backward \n",
    "    return out\n",
    "\n",
    "  def backward(self):\n",
    "    topo = []\n",
    "    visited = set()\n",
    "    def build_topo(node):\n",
    "      if node not in visited:\n",
    "        visited.add(node)\n",
    "        for child in node._prev:\n",
    "          build_topo(child)\n",
    "        topo.append(node)\n",
    "      \n",
    "    build_topo(self) \n",
    "    self.grad = 1.0\n",
    "    for node in reversed(topo):\n",
    "      node._backward()"
   ]
  },
  {
   "cell_type": "code",
   "execution_count": 204,
   "metadata": {},
   "outputs": [],
   "source": [
    "def trace(root):\n",
    "  nodes, edges = set(), set()\n",
    "  def build(v):\n",
    "    if v not in nodes:\n",
    "      nodes.add(v)\n",
    "      for child in v._prev:\n",
    "        edges.add((child, v))\n",
    "        build(child)\n",
    "  build(root)\n",
    "  return nodes, edges\n",
    "\n",
    "def draw_dot(root):\n",
    "  dot = Digraph(format=\"svg\", graph_attr={'rankdir': 'LR'})\n",
    "  nodes, edges = trace(root)\n",
    "  for n in nodes:\n",
    "    uid = str(id(n))\n",
    "    dot.node(name = uid, label = '{ %s | data %.4f | %s }' % (n.label, n.data, n.grad), shape=\"record\")\n",
    "    if n._op:\n",
    "      dot.node(name = uid + n._op, label = n._op)\n",
    "      dot.edge(uid + n._op, uid)\n",
    "\n",
    "  for n1, n2 in edges:\n",
    "    dot.edge(str(id(n1)), str(id(n2)) + n2._op)\n",
    "  \n",
    "  return dot"
   ]
  },
  {
   "cell_type": "code",
   "execution_count": 205,
   "metadata": {},
   "outputs": [],
   "source": [
    "\n",
    "a = Value(10, label=\"a\")\n",
    "b = Value(2, label=\"b\")\n",
    "c = Value(3, label=\"c\")\n",
    "d = Value(5, label=\"d\")\n"
   ]
  },
  {
   "attachments": {},
   "cell_type": "markdown",
   "metadata": {},
   "source": [
    "z = ((a * b) + c) * d"
   ]
  },
  {
   "cell_type": "code",
   "execution_count": 206,
   "metadata": {},
   "outputs": [],
   "source": [
    "def un_pollute(a, b, c, d):\n",
    "  x = a * b; x.label = \"x\"\n",
    "  y = x + c; y.label = \"y\"\n",
    "  z = y * d; z.label = \"z\"\n",
    "  return z\n",
    "\n"
   ]
  },
  {
   "cell_type": "code",
   "execution_count": 253,
   "metadata": {},
   "outputs": [
    {
     "data": {
      "text/plain": [
       "Value(data = 120.0)"
      ]
     },
     "execution_count": 253,
     "metadata": {},
     "output_type": "execute_result"
    }
   ],
   "source": [
    "\n",
    "h = 0.5\n",
    "d1 = un_pollute(a + Value(h), b, c, d )\n",
    "d1"
   ]
  },
  {
   "cell_type": "code",
   "execution_count": 208,
   "metadata": {},
   "outputs": [
    {
     "data": {
      "text/plain": [
       "Value(data = 115)"
      ]
     },
     "execution_count": 208,
     "metadata": {},
     "output_type": "execute_result"
    }
   ],
   "source": [
    "\n",
    "d2 = un_pollute(a, b, c, d)\n",
    "d2"
   ]
  },
  {
   "cell_type": "code",
   "execution_count": 248,
   "metadata": {},
   "outputs": [
    {
     "data": {
      "text/plain": [
       "10.0"
      ]
     },
     "execution_count": 248,
     "metadata": {},
     "output_type": "execute_result"
    }
   ],
   "source": [
    "(d1.data - d2.data)/h\n"
   ]
  },
  {
   "cell_type": "code",
   "execution_count": 254,
   "metadata": {},
   "outputs": [
    {
     "data": {
      "image/svg+xml": "<?xml version=\"1.0\" encoding=\"UTF-8\" standalone=\"no\"?>\n<!DOCTYPE svg PUBLIC \"-//W3C//DTD SVG 1.1//EN\"\n \"http://www.w3.org/Graphics/SVG/1.1/DTD/svg11.dtd\">\n<!-- Generated by graphviz version 7.1.0 (20230121.1956)\n -->\n<!-- Pages: 1 -->\n<svg width=\"1332pt\" height=\"184pt\"\n viewBox=\"0.00 0.00 1332.00 184.00\" xmlns=\"http://www.w3.org/2000/svg\" xmlns:xlink=\"http://www.w3.org/1999/xlink\">\n<g id=\"graph0\" class=\"graph\" transform=\"scale(1 1) rotate(0) translate(4 180)\">\n<polygon fill=\"white\" stroke=\"none\" points=\"-4,4 -4,-180 1328,-180 1328,4 -4,4\"/>\n<!-- 4701020176 -->\n<g id=\"node1\" class=\"node\">\n<title>4701020176</title>\n<polygon fill=\"none\" stroke=\"black\" points=\"21.5,-139.5 21.5,-175.5 162.5,-175.5 162.5,-139.5 21.5,-139.5\"/>\n<text text-anchor=\"middle\" x=\"31.5\" y=\"-153.8\" font-family=\"Times,serif\" font-size=\"14.00\"> </text>\n<polyline fill=\"none\" stroke=\"black\" points=\"41.5,-139.5 41.5,-175.5\"/>\n<text text-anchor=\"middle\" x=\"81.5\" y=\"-153.8\" font-family=\"Times,serif\" font-size=\"14.00\">data 0.5000</text>\n<polyline fill=\"none\" stroke=\"black\" points=\"121.5,-139.5 121.5,-175.5\"/>\n<text text-anchor=\"middle\" x=\"142\" y=\"-153.8\" font-family=\"Times,serif\" font-size=\"14.00\">10.0</text>\n</g>\n<!-- 4700065552+ -->\n<g id=\"node8\" class=\"node\">\n<title>4700065552+</title>\n<ellipse fill=\"none\" stroke=\"black\" cx=\"247\" cy=\"-129.5\" rx=\"27\" ry=\"18\"/>\n<text text-anchor=\"middle\" x=\"247\" y=\"-125.8\" font-family=\"Times,serif\" font-size=\"14.00\">+</text>\n</g>\n<!-- 4701020176&#45;&gt;4700065552+ -->\n<g id=\"edge12\" class=\"edge\">\n<title>4701020176&#45;&gt;4700065552+</title>\n<path fill=\"none\" stroke=\"black\" d=\"M162.34,-144.81C178.52,-141.85 195.14,-138.81 209.25,-136.23\"/>\n<polygon fill=\"black\" stroke=\"black\" points=\"209.76,-139.69 218.97,-134.45 208.5,-132.8 209.76,-139.69\"/>\n</g>\n<!-- 4700930640 -->\n<g id=\"node2\" class=\"node\">\n<title>4700930640</title>\n<polygon fill=\"none\" stroke=\"black\" points=\"0,-84.5 0,-120.5 184,-120.5 184,-84.5 0,-84.5\"/>\n<text text-anchor=\"middle\" x=\"11.5\" y=\"-98.8\" font-family=\"Times,serif\" font-size=\"14.00\">a</text>\n<polyline fill=\"none\" stroke=\"black\" points=\"23,-84.5 23,-120.5\"/>\n<text text-anchor=\"middle\" x=\"66.5\" y=\"-98.8\" font-family=\"Times,serif\" font-size=\"14.00\">data 10.0000</text>\n<polyline fill=\"none\" stroke=\"black\" points=\"110,-84.5 110,-120.5\"/>\n<text text-anchor=\"middle\" x=\"147\" y=\"-98.8\" font-family=\"Times,serif\" font-size=\"14.00\">1012860.0</text>\n</g>\n<!-- 4700930640&#45;&gt;4700065552+ -->\n<g id=\"edge7\" class=\"edge\">\n<title>4700930640&#45;&gt;4700065552+</title>\n<path fill=\"none\" stroke=\"black\" d=\"M183.77,-118.52C192.66,-120.09 201.28,-121.61 209.13,-122.99\"/>\n<polygon fill=\"black\" stroke=\"black\" points=\"208.44,-126.43 218.9,-124.72 209.66,-119.53 208.44,-126.43\"/>\n</g>\n<!-- 4700940432 -->\n<g id=\"node3\" class=\"node\">\n<title>4700940432</title>\n<polygon fill=\"none\" stroke=\"black\" points=\"890,-0.5 890,-36.5 1047,-36.5 1047,-0.5 890,-0.5\"/>\n<text text-anchor=\"middle\" x=\"901.5\" y=\"-14.8\" font-family=\"Times,serif\" font-size=\"14.00\">d</text>\n<polyline fill=\"none\" stroke=\"black\" points=\"913,-0.5 913,-36.5\"/>\n<text text-anchor=\"middle\" x=\"953\" y=\"-14.8\" font-family=\"Times,serif\" font-size=\"14.00\">data 5.0000</text>\n<polyline fill=\"none\" stroke=\"black\" points=\"993,-0.5 993,-36.5\"/>\n<text text-anchor=\"middle\" x=\"1020\" y=\"-14.8\" font-family=\"Times,serif\" font-size=\"14.00\">1008.0</text>\n</g>\n<!-- 4700156176* -->\n<g id=\"node10\" class=\"node\">\n<title>4700156176*</title>\n<ellipse fill=\"none\" stroke=\"black\" cx=\"1110\" cy=\"-45.5\" rx=\"27\" ry=\"18\"/>\n<text text-anchor=\"middle\" x=\"1110\" y=\"-41.8\" font-family=\"Times,serif\" font-size=\"14.00\">*</text>\n</g>\n<!-- 4700940432&#45;&gt;4700156176* -->\n<g id=\"edge10\" class=\"edge\">\n<title>4700940432&#45;&gt;4700156176*</title>\n<path fill=\"none\" stroke=\"black\" d=\"M1046.59,-33.42C1055.57,-35.16 1064.38,-36.86 1072.43,-38.42\"/>\n<polygon fill=\"black\" stroke=\"black\" points=\"1071.62,-41.83 1082.1,-40.29 1072.95,-34.96 1071.62,-41.83\"/>\n</g>\n<!-- 4700935376 -->\n<g id=\"node4\" class=\"node\">\n<title>4700935376</title>\n<polygon fill=\"none\" stroke=\"black\" points=\"607,-28.5 607,-64.5 764,-64.5 764,-28.5 607,-28.5\"/>\n<text text-anchor=\"middle\" x=\"618.5\" y=\"-42.8\" font-family=\"Times,serif\" font-size=\"14.00\">c</text>\n<polyline fill=\"none\" stroke=\"black\" points=\"630,-28.5 630,-64.5\"/>\n<text text-anchor=\"middle\" x=\"670\" y=\"-42.8\" font-family=\"Times,serif\" font-size=\"14.00\">data 3.0000</text>\n<polyline fill=\"none\" stroke=\"black\" points=\"710,-28.5 710,-64.5\"/>\n<text text-anchor=\"middle\" x=\"737\" y=\"-42.8\" font-family=\"Times,serif\" font-size=\"14.00\">3740.0</text>\n</g>\n<!-- 4700147088+ -->\n<g id=\"node13\" class=\"node\">\n<title>4700147088+</title>\n<ellipse fill=\"none\" stroke=\"black\" cx=\"827\" cy=\"-73.5\" rx=\"27\" ry=\"18\"/>\n<text text-anchor=\"middle\" x=\"827\" y=\"-69.8\" font-family=\"Times,serif\" font-size=\"14.00\">+</text>\n</g>\n<!-- 4700935376&#45;&gt;4700147088+ -->\n<g id=\"edge5\" class=\"edge\">\n<title>4700935376&#45;&gt;4700147088+</title>\n<path fill=\"none\" stroke=\"black\" d=\"M763.59,-61.42C772.57,-63.16 781.38,-64.86 789.43,-66.42\"/>\n<polygon fill=\"black\" stroke=\"black\" points=\"788.62,-69.83 799.1,-68.29 789.95,-62.96 788.62,-69.83\"/>\n</g>\n<!-- 4700067536 -->\n<g id=\"node5\" class=\"node\">\n<title>4700067536</title>\n<polygon fill=\"none\" stroke=\"black\" points=\"613.5,-83.5 613.5,-119.5 757.5,-119.5 757.5,-83.5 613.5,-83.5\"/>\n<text text-anchor=\"middle\" x=\"625\" y=\"-97.8\" font-family=\"Times,serif\" font-size=\"14.00\">x</text>\n<polyline fill=\"none\" stroke=\"black\" points=\"636.5,-83.5 636.5,-119.5\"/>\n<text text-anchor=\"middle\" x=\"680\" y=\"-97.8\" font-family=\"Times,serif\" font-size=\"14.00\">data 21.0000</text>\n<polyline fill=\"none\" stroke=\"black\" points=\"723.5,-83.5 723.5,-119.5\"/>\n<text text-anchor=\"middle\" x=\"740.5\" y=\"-97.8\" font-family=\"Times,serif\" font-size=\"14.00\">5.0</text>\n</g>\n<!-- 4700067536&#45;&gt;4700147088+ -->\n<g id=\"edge6\" class=\"edge\">\n<title>4700067536&#45;&gt;4700147088+</title>\n<path fill=\"none\" stroke=\"black\" d=\"M757.48,-87.25C768.6,-85.02 779.69,-82.8 789.6,-80.81\"/>\n<polygon fill=\"black\" stroke=\"black\" points=\"790.03,-84.29 799.14,-78.89 788.65,-77.43 790.03,-84.29\"/>\n</g>\n<!-- 4700067536* -->\n<g id=\"node6\" class=\"node\">\n<title>4700067536*</title>\n<ellipse fill=\"none\" stroke=\"black\" cx=\"544\" cy=\"-101.5\" rx=\"27\" ry=\"18\"/>\n<text text-anchor=\"middle\" x=\"544\" y=\"-97.8\" font-family=\"Times,serif\" font-size=\"14.00\">*</text>\n</g>\n<!-- 4700067536*&#45;&gt;4700067536 -->\n<g id=\"edge1\" class=\"edge\">\n<title>4700067536*&#45;&gt;4700067536</title>\n<path fill=\"none\" stroke=\"black\" d=\"M571.24,-101.5C580.35,-101.5 591.12,-101.5 602.33,-101.5\"/>\n<polygon fill=\"black\" stroke=\"black\" points=\"602.13,-105 612.13,-101.5 602.13,-98 602.13,-105\"/>\n</g>\n<!-- 4700065552 -->\n<g id=\"node7\" class=\"node\">\n<title>4700065552</title>\n<polygon fill=\"none\" stroke=\"black\" points=\"321.5,-111.5 321.5,-147.5 469.5,-147.5 469.5,-111.5 321.5,-111.5\"/>\n<text text-anchor=\"middle\" x=\"331.5\" y=\"-125.8\" font-family=\"Times,serif\" font-size=\"14.00\"> </text>\n<polyline fill=\"none\" stroke=\"black\" points=\"341.5,-111.5 341.5,-147.5\"/>\n<text text-anchor=\"middle\" x=\"385\" y=\"-125.8\" font-family=\"Times,serif\" font-size=\"14.00\">data 10.5000</text>\n<polyline fill=\"none\" stroke=\"black\" points=\"428.5,-111.5 428.5,-147.5\"/>\n<text text-anchor=\"middle\" x=\"449\" y=\"-125.8\" font-family=\"Times,serif\" font-size=\"14.00\">10.0</text>\n</g>\n<!-- 4700065552&#45;&gt;4700067536* -->\n<g id=\"edge9\" class=\"edge\">\n<title>4700065552&#45;&gt;4700067536*</title>\n<path fill=\"none\" stroke=\"black\" d=\"M469.32,-115.58C482.22,-113.12 495.13,-110.65 506.47,-108.48\"/>\n<polygon fill=\"black\" stroke=\"black\" points=\"506.99,-111.95 516.15,-106.63 505.67,-105.07 506.99,-111.95\"/>\n</g>\n<!-- 4700065552+&#45;&gt;4700065552 -->\n<g id=\"edge2\" class=\"edge\">\n<title>4700065552+&#45;&gt;4700065552</title>\n<path fill=\"none\" stroke=\"black\" d=\"M274.19,-129.5C284.67,-129.5 297.38,-129.5 310.56,-129.5\"/>\n<polygon fill=\"black\" stroke=\"black\" points=\"310.19,-133 320.19,-129.5 310.19,-126 310.19,-133\"/>\n</g>\n<!-- 4700156176 -->\n<g id=\"node9\" class=\"node\">\n<title>4700156176</title>\n<polygon fill=\"none\" stroke=\"black\" points=\"1173,-27.5 1173,-63.5 1324,-63.5 1324,-27.5 1173,-27.5\"/>\n<text text-anchor=\"middle\" x=\"1184.5\" y=\"-41.8\" font-family=\"Times,serif\" font-size=\"14.00\">z</text>\n<polyline fill=\"none\" stroke=\"black\" points=\"1196,-27.5 1196,-63.5\"/>\n<text text-anchor=\"middle\" x=\"1243\" y=\"-41.8\" font-family=\"Times,serif\" font-size=\"14.00\">data 120.0000</text>\n<polyline fill=\"none\" stroke=\"black\" points=\"1290,-27.5 1290,-63.5\"/>\n<text text-anchor=\"middle\" x=\"1307\" y=\"-41.8\" font-family=\"Times,serif\" font-size=\"14.00\">1.0</text>\n</g>\n<!-- 4700156176*&#45;&gt;4700156176 -->\n<g id=\"edge3\" class=\"edge\">\n<title>4700156176*&#45;&gt;4700156176</title>\n<path fill=\"none\" stroke=\"black\" d=\"M1137.32,-45.5C1144.67,-45.5 1153.09,-45.5 1161.91,-45.5\"/>\n<polygon fill=\"black\" stroke=\"black\" points=\"1161.76,-49 1171.76,-45.5 1161.76,-42 1161.76,-49\"/>\n</g>\n<!-- 4700941712 -->\n<g id=\"node11\" class=\"node\">\n<title>4700941712</title>\n<polygon fill=\"none\" stroke=\"black\" points=\"310,-56.5 310,-92.5 481,-92.5 481,-56.5 310,-56.5\"/>\n<text text-anchor=\"middle\" x=\"321.5\" y=\"-70.8\" font-family=\"Times,serif\" font-size=\"14.00\">b</text>\n<polyline fill=\"none\" stroke=\"black\" points=\"333,-56.5 333,-92.5\"/>\n<text text-anchor=\"middle\" x=\"373\" y=\"-70.8\" font-family=\"Times,serif\" font-size=\"14.00\">data 2.0000</text>\n<polyline fill=\"none\" stroke=\"black\" points=\"413,-56.5 413,-92.5\"/>\n<text text-anchor=\"middle\" x=\"447\" y=\"-70.8\" font-family=\"Times,serif\" font-size=\"14.00\">519277.5</text>\n</g>\n<!-- 4700941712&#45;&gt;4700067536* -->\n<g id=\"edge11\" class=\"edge\">\n<title>4700941712&#45;&gt;4700067536*</title>\n<path fill=\"none\" stroke=\"black\" d=\"M480.87,-90.05C489.74,-91.68 498.39,-93.28 506.28,-94.73\"/>\n<polygon fill=\"black\" stroke=\"black\" points=\"505.64,-98.17 516.11,-96.54 506.91,-91.29 505.64,-98.17\"/>\n</g>\n<!-- 4700147088 -->\n<g id=\"node12\" class=\"node\">\n<title>4700147088</title>\n<polygon fill=\"none\" stroke=\"black\" points=\"896.5,-55.5 896.5,-91.5 1040.5,-91.5 1040.5,-55.5 896.5,-55.5\"/>\n<text text-anchor=\"middle\" x=\"908\" y=\"-69.8\" font-family=\"Times,serif\" font-size=\"14.00\">y</text>\n<polyline fill=\"none\" stroke=\"black\" points=\"919.5,-55.5 919.5,-91.5\"/>\n<text text-anchor=\"middle\" x=\"963\" y=\"-69.8\" font-family=\"Times,serif\" font-size=\"14.00\">data 24.0000</text>\n<polyline fill=\"none\" stroke=\"black\" points=\"1006.5,-55.5 1006.5,-91.5\"/>\n<text text-anchor=\"middle\" x=\"1023.5\" y=\"-69.8\" font-family=\"Times,serif\" font-size=\"14.00\">5.0</text>\n</g>\n<!-- 4700147088&#45;&gt;4700156176* -->\n<g id=\"edge8\" class=\"edge\">\n<title>4700147088&#45;&gt;4700156176*</title>\n<path fill=\"none\" stroke=\"black\" d=\"M1040.48,-59.25C1051.6,-57.02 1062.69,-54.8 1072.6,-52.81\"/>\n<polygon fill=\"black\" stroke=\"black\" points=\"1073.03,-56.29 1082.14,-50.89 1071.65,-49.43 1073.03,-56.29\"/>\n</g>\n<!-- 4700147088+&#45;&gt;4700147088 -->\n<g id=\"edge4\" class=\"edge\">\n<title>4700147088+&#45;&gt;4700147088</title>\n<path fill=\"none\" stroke=\"black\" d=\"M854.24,-73.5C863.35,-73.5 874.12,-73.5 885.33,-73.5\"/>\n<polygon fill=\"black\" stroke=\"black\" points=\"885.13,-77 895.13,-73.5 885.13,-70 885.13,-77\"/>\n</g>\n</g>\n</svg>\n",
      "text/plain": [
       "<graphviz.graphs.Digraph at 0x118268fd0>"
      ]
     },
     "execution_count": 254,
     "metadata": {},
     "output_type": "execute_result"
    }
   ],
   "source": [
    "d1.backward()\n",
    "draw_dot(d1)"
   ]
  }
 ],
 "metadata": {
  "kernelspec": {
   "display_name": "Python 3",
   "language": "python",
   "name": "python3"
  },
  "language_info": {
   "codemirror_mode": {
    "name": "ipython",
    "version": 3
   },
   "file_extension": ".py",
   "mimetype": "text/x-python",
   "name": "python",
   "nbconvert_exporter": "python",
   "pygments_lexer": "ipython3",
   "version": "3.11.2"
  },
  "orig_nbformat": 4
 },
 "nbformat": 4,
 "nbformat_minor": 2
}
